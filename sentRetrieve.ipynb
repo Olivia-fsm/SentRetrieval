{
  "cells": [
    {
      "cell_type": "code",
      "execution_count": 1,
      "metadata": {
        "id": "rz5FqxDWA_WM"
      },
      "outputs": [],
      "source": [
        "import warnings\n",
        "warnings.filterwarnings('ignore')\n",
        "\n",
        "import os\n",
        "import re\n",
        "import json\n",
        "import random\n",
        "\n",
        "import numpy as np\n",
        "import pandas as pd\n",
        "import pickle\n",
        "import json\n",
        "from tqdm.auto import tqdm\n",
        "import matplotlib.pyplot as plt\n",
        "\n",
        "from pprint import pprint\n",
        "import collections\n",
        "from collections import OrderedDict, Counter"
      ]
    },
    {
      "cell_type": "markdown",
      "metadata": {
        "id": "eq4zh-I4BP3X"
      },
      "source": [
        "### Utils"
      ]
    },
    {
      "cell_type": "code",
      "execution_count": null,
      "metadata": {
        "colab": {
          "base_uri": "https://localhost:8080/"
        },
        "id": "f8xwzh4kCUzK",
        "outputId": "45cc8deb-0e62-4c02-9847-23778b287b86"
      },
      "outputs": [],
      "source": [
        "import nltk \n",
        "\n",
        "nltk.download('stopwords')\n",
        "nltk.download('wordnet')\n",
        "\n",
        "import string\n",
        "from nltk.tokenize import RegexpTokenizer\n",
        "from nltk.corpus import stopwords\n",
        "from nltk.tokenize.punkt import PunktSentenceTokenizer\n",
        "from nltk.stem.wordnet import WordNetLemmatizer\n",
        "lmtzr = WordNetLemmatizer()\n",
        "\n",
        "\n",
        "STOPWORDS = stopwords.words('english')\n",
        "PUNCTUATIONS = string.punctuation\n",
        "\n",
        "\n",
        "import spacy\n",
        "nlp = spacy.load(\"en_core_web_sm\")\n",
        "\n",
        "### Dependency for Extractive Summarization ###\n",
        "# !pip install pytorch_transformers tensorboardX multiprocess pyrouge\n"
      ]
    },
    {
      "cell_type": "code",
      "execution_count": 5,
      "metadata": {
        "id": "hnmIVzXcBFA1"
      },
      "outputs": [],
      "source": [
        "from typing import List\n",
        "def save_csv(trg_DF, save_path):\n",
        "  \"\"\" Save DataFrame as .csv \"\"\"\n",
        "  trg_DF.to_csv(save_path)\n",
        "\n",
        "def get_paragraphs(txt_path:str = \"/content/drive/Shareddrives/NLP4Education/htmlContent/ArgueTutor.txt\") -> list:\n",
        "  with open(txt_path, 'r') as trg:\n",
        "    paras = trg.readlines() # Paragraphs separated by \\n\n",
        "\n",
        "def context_clean(text, rm_punct=False):\n",
        "  \"\"\" Remove unexpected reference in brackets and punctuations. \"\"\"\n",
        "  text = re.sub(r'[ ]?\\(.*?\\)[ ]?', ' ', text)\n",
        "  text = re.sub(r'[ ]?\\[.*?\\][ ]?', ' ', text)\n",
        "  text = re.sub(r'[ ]?<.*?>[ ]?', ' ', text)\n",
        "  if rm_punct:\n",
        "    for punct in PUNCTUATIONS:\n",
        "      text = text.replace(punct, '')\n",
        "  return text\n",
        "\n",
        "def get_sents(text:str) -> list:\n",
        "  \"\"\" \n",
        "    Effect: split paragraph into sentences, remove redundant blanks.\n",
        "    Input: paragraph (plain text); \n",
        "    Output: list of sentences.\n",
        "  \"\"\"\n",
        "  text = re.sub('[\\n\\t\\r]+', ' ', text.strip())\n",
        "  text = re.sub('[ ]+', ' ', text)\n",
        "\n",
        "  sent_tokenizer = PunktSentenceTokenizer()\n",
        "  sents = sent_tokenizer.tokenize(text)\n",
        "  return [x for x in sents if len(x)>3]\n",
        "\n",
        "def get_sents_split(para_list: list) -> list:\n",
        "  paras_sents_list = []\n",
        "  for para in para_list:\n",
        "    sent_list = get_sents(para)\n",
        "    paras_sents_list.append(sent_list)\n",
        "  return paras_sents_list\n",
        "\n",
        "def make_presumm_input(\n",
        "    para_list:list, \n",
        "    input_write_into:str = None, \n",
        "    trg_write_into:str = None, \n",
        "    trg_summ_list:list = None, \n",
        "    paragraph_split_sents:bool = False,\n",
        "    return_input_text:bool = False ):\n",
        "  \"\"\" Create input to BertSum extractive summarization model. \n",
        "  params:\n",
        "    para_list: list of paragraphs;\n",
        "    input_write_into: file path to save processed input;\n",
        "    trg_write_into: file path to ground truth summary (used only for evaluation);\n",
        "    trg_summ_list: ground truth summary (used only for evaluation);\n",
        "    paragraph_split_sents: whether the paragraphs are splited into sentences;\n",
        "    return_input_text: whether return the processed input text (check the results).\n",
        "  \"\"\"\n",
        "  if not paragraph_split_sents:\n",
        "    para_sents_list = get_sents_split(para_list)\n",
        "  if trg_summ_list is not None:\n",
        "    with open(input_write_into, 'w') as input_trg:\n",
        "      with open(trg_write_into, 'w') as trg_trg:\n",
        "        for psg_sents, summ_sents in tqdm(zip(para_list, trg_summ_list)):\n",
        "          input_trg.write(' [CLS] [SEP] '.join(psg_sents)+'\\n')\n",
        "          trg_trg.write(summ_sents+'\\n')\n",
        "  elif input_write_into is not None:\n",
        "    with open(input_write_into, 'w') as input_trg:\n",
        "      for psg_sents in tqdm(para_sents_list):\n",
        "        input_trg.write(' [CLS] [SEP] '.join(psg_sents)+'\\n')\n",
        "  if return_input_text:\n",
        "    return [' [CLS] [SEP] '.join(psg_sents)+'\\n' for psg_sents in para_sents_list]\n",
        "    "
      ]
    },
    {
      "cell_type": "code",
      "execution_count": 3,
      "metadata": {
        "id": "E-n2CFPjBVpV"
      },
      "outputs": [],
      "source": [
        "with open(\"/home/oliviaaa/NLP4ActiveReading/NLP4ActiveReading_Subtasks/SentRetrieval-20220817/htmlContent/ArgueTutor.txt\", 'r') as trg:\n",
        "  PARAS = trg.readlines() # Paragraphs separated by \\n"
      ]
    },
    {
      "cell_type": "code",
      "execution_count": 6,
      "metadata": {
        "colab": {
          "base_uri": "https://localhost:8080/"
        },
        "id": "8hGLWK7JBh39",
        "outputId": "559a8748-e2c7-4066-9ae0-82eb7bf14bfa"
      },
      "outputs": [
        {
          "data": {
            "text/plain": [
              "['Techniques from Natural-Language-Processing offer the opportunities to design new dialog-based forms of human-computer interaction as well as to analyze the argumentation quality of texts.',\n",
              " 'This can be leveraged to provide students with adaptive tutoring when doing a persuasive writing exercise.',\n",
              " 'To test if individual tutoring for students’ argumentation will help them to write more convincing texts, we developed ArgueTutor, a conversational agent that tutors students with adaptive argumentation feedback in their learning journey.',\n",
              " 'We compared ArgueTutor with 55 students to a traditional writing tool.',\n",
              " 'We found students using ArgueTutor wrote more convincing texts with a better quality of argumentation compared to the ones using the alternative approach.',\n",
              " 'The measured level of enjoyment and ease of use provides promising results to use our tool in traditional learning settings.',\n",
              " 'Our results indicate that dialog-based learning applications combined with NLP text feedback have a beneficial use to foster better writing skills of students.']"
            ]
          },
          "execution_count": 6,
          "metadata": {},
          "output_type": "execute_result"
        }
      ],
      "source": [
        "get_sents_split(PARAS)[0]"
      ]
    },
    {
      "cell_type": "code",
      "execution_count": 7,
      "metadata": {
        "colab": {
          "base_uri": "https://localhost:8080/",
          "height": 49,
          "referenced_widgets": [
            "17b0f26089774bcdb89c097312676d97",
            "60201430ca49474f88ecd3683183ba6f",
            "32caa336ce00480e96782b431729e942",
            "8e54756ab44d41ada346071126706dfc",
            "601620722390484e9325ea7fee40c6e1",
            "359b7b28f1954738b6f87b83dc6757f1",
            "62702e58df7941e6824fbe2e52d20d95",
            "a4897fb48d6142f1818a6b854df1cae4",
            "5182aa0637134dce9758be5fa5e2f1de",
            "5e9dbbf2a69c4fee8f3101e02b365198",
            "f8ed40a70acf469d99d4b6c32c30d8f3"
          ]
        },
        "id": "EQyq1TPZBjIX",
        "outputId": "586a008d-5a9b-417a-aa15-d5a26377fb4c"
      },
      "outputs": [
        {
          "data": {
            "application/vnd.jupyter.widget-view+json": {
              "model_id": "866718a3d7f24f0aa3797264e35af1c1",
              "version_major": 2,
              "version_minor": 0
            },
            "text/plain": [
              "  0%|          | 0/50 [00:00<?, ?it/s]"
            ]
          },
          "metadata": {},
          "output_type": "display_data"
        }
      ],
      "source": [
        "### Sanity Check ###\n",
        "PRESUM_INPUT = make_presumm_input(\n",
        "        para_list=PARAS, \n",
        "        input_write_into='/home/oliviaaa/NLP4ActiveReading/NLP4ActiveReading_Subtasks/SentRetrieval-20220817/temp.txt',\n",
        "        return_input_text=True )"
      ]
    },
    {
      "cell_type": "code",
      "execution_count": 9,
      "metadata": {
        "colab": {
          "base_uri": "https://localhost:8080/"
        },
        "id": "LxEEZVWyJCJF",
        "outputId": "e1f2ab10-91bf-4718-87c0-a4816a189896"
      },
      "outputs": [
        {
          "name": "stdout",
          "output_type": "stream",
          "text": [
            "/bin/python: can't find '__main__' module in '/'\n"
          ]
        }
      ],
      "source": [
        "!python /home/oliviaaa/NLP4ActiveReading/NLP4ActiveReading_Subtasks/SentRetrieval-20220817/PreSumm/src/train.py -task ext -mode test_text -text_src /home/oliviaaa/NLP4ActiveReading/NLP4ActiveReading_Subtasks/SentRetrieval-20220817/temp.txt -test_batch_size 8 -log_file /home/oliviaaa/NLP4ActiveReading/NLP4ActiveReading_Subtasks/SentRetrieval-20220817/temp_logs.txt -test_from /home/oliviaaa/NLP4ActiveReading/NLP4ActiveReading_Subtasks/SentRetrieval-20220817/PreSumm/models/bertext_cnndm_transformer.pt -sep_optim true -use_interval true -visible_gpus 0 -max_pos 512 -max_length 500 -alpha 0.95 -min_length 20 -result_path /home/oliviaaa/NLP4ActiveReading/NLP4ActiveReading_Subtasks/SentRetrieval-20220817/temp_out.txt\n"
      ]
    },
    {
      "cell_type": "code",
      "execution_count": 13,
      "metadata": {
        "id": "LimxzqMXJeaJ"
      },
      "outputs": [],
      "source": [
        "def get_retrieve(output_path='/home/oliviaaa/NLP4ActiveReading/NLP4ActiveReading_Subtasks/SentRetrieval-20220817/temp_out.txt_step-1.candidate'):\n",
        "  with open(output_path, 'r') as trg:\n",
        "    res = trg.readlines()\n",
        "  return [s.replace('\\n', '').split('<q>') for s in res]"
      ]
    },
    {
      "cell_type": "code",
      "execution_count": 14,
      "metadata": {
        "id": "kcwfACIOKcDM"
      },
      "outputs": [],
      "source": [
        "demo_result = get_retrieve()"
      ]
    },
    {
      "cell_type": "code",
      "execution_count": 15,
      "metadata": {
        "colab": {
          "base_uri": "https://localhost:8080/"
        },
        "id": "G5UihRl_Kff4",
        "outputId": "80e65d0c-ef77-4433-e60f-a5fedcb7daf9"
      },
      "outputs": [
        {
          "data": {
            "text/plain": [
              "['We compared ArgueTutor with 55 students to a traditional writing tool.',\n",
              " 'We found students using ArgueTutor wrote more convincing texts with a better quality of argumentation compared to the ones using the alternative approach.',\n",
              " 'This can be leveraged to provide students with adaptive tutoring when doing a persuasive writing exercise.']"
            ]
          },
          "execution_count": 15,
          "metadata": {},
          "output_type": "execute_result"
        }
      ],
      "source": [
        "# len(demo_result) => 50\n",
        "demo_result[0]"
      ]
    },
    {
      "cell_type": "code",
      "execution_count": null,
      "metadata": {
        "id": "kTnzlmNyKgm0"
      },
      "outputs": [],
      "source": []
    }
  ],
  "metadata": {
    "accelerator": "GPU",
    "colab": {
      "collapsed_sections": [],
      "name": "sentRetrieve.ipynb",
      "provenance": []
    },
    "gpuClass": "standard",
    "kernelspec": {
      "display_name": "Python 3.8.10 64-bit",
      "language": "python",
      "name": "python3"
    },
    "language_info": {
      "codemirror_mode": {
        "name": "ipython",
        "version": 3
      },
      "file_extension": ".py",
      "mimetype": "text/x-python",
      "name": "python",
      "nbconvert_exporter": "python",
      "pygments_lexer": "ipython3",
      "version": "3.8.10"
    },
    "vscode": {
      "interpreter": {
        "hash": "e7370f93d1d0cde622a1f8e1c04877d8463912d04d973331ad4851f04de6915a"
      }
    },
    "widgets": {
      "application/vnd.jupyter.widget-state+json": {
        "17b0f26089774bcdb89c097312676d97": {
          "model_module": "@jupyter-widgets/controls",
          "model_module_version": "1.5.0",
          "model_name": "HBoxModel",
          "state": {
            "_dom_classes": [],
            "_model_module": "@jupyter-widgets/controls",
            "_model_module_version": "1.5.0",
            "_model_name": "HBoxModel",
            "_view_count": null,
            "_view_module": "@jupyter-widgets/controls",
            "_view_module_version": "1.5.0",
            "_view_name": "HBoxView",
            "box_style": "",
            "children": [
              "IPY_MODEL_60201430ca49474f88ecd3683183ba6f",
              "IPY_MODEL_32caa336ce00480e96782b431729e942",
              "IPY_MODEL_8e54756ab44d41ada346071126706dfc"
            ],
            "layout": "IPY_MODEL_601620722390484e9325ea7fee40c6e1"
          }
        },
        "32caa336ce00480e96782b431729e942": {
          "model_module": "@jupyter-widgets/controls",
          "model_module_version": "1.5.0",
          "model_name": "FloatProgressModel",
          "state": {
            "_dom_classes": [],
            "_model_module": "@jupyter-widgets/controls",
            "_model_module_version": "1.5.0",
            "_model_name": "FloatProgressModel",
            "_view_count": null,
            "_view_module": "@jupyter-widgets/controls",
            "_view_module_version": "1.5.0",
            "_view_name": "ProgressView",
            "bar_style": "success",
            "description": "",
            "description_tooltip": null,
            "layout": "IPY_MODEL_a4897fb48d6142f1818a6b854df1cae4",
            "max": 50,
            "min": 0,
            "orientation": "horizontal",
            "style": "IPY_MODEL_5182aa0637134dce9758be5fa5e2f1de",
            "value": 50
          }
        },
        "359b7b28f1954738b6f87b83dc6757f1": {
          "model_module": "@jupyter-widgets/base",
          "model_module_version": "1.2.0",
          "model_name": "LayoutModel",
          "state": {
            "_model_module": "@jupyter-widgets/base",
            "_model_module_version": "1.2.0",
            "_model_name": "LayoutModel",
            "_view_count": null,
            "_view_module": "@jupyter-widgets/base",
            "_view_module_version": "1.2.0",
            "_view_name": "LayoutView",
            "align_content": null,
            "align_items": null,
            "align_self": null,
            "border": null,
            "bottom": null,
            "display": null,
            "flex": null,
            "flex_flow": null,
            "grid_area": null,
            "grid_auto_columns": null,
            "grid_auto_flow": null,
            "grid_auto_rows": null,
            "grid_column": null,
            "grid_gap": null,
            "grid_row": null,
            "grid_template_areas": null,
            "grid_template_columns": null,
            "grid_template_rows": null,
            "height": null,
            "justify_content": null,
            "justify_items": null,
            "left": null,
            "margin": null,
            "max_height": null,
            "max_width": null,
            "min_height": null,
            "min_width": null,
            "object_fit": null,
            "object_position": null,
            "order": null,
            "overflow": null,
            "overflow_x": null,
            "overflow_y": null,
            "padding": null,
            "right": null,
            "top": null,
            "visibility": null,
            "width": null
          }
        },
        "5182aa0637134dce9758be5fa5e2f1de": {
          "model_module": "@jupyter-widgets/controls",
          "model_module_version": "1.5.0",
          "model_name": "ProgressStyleModel",
          "state": {
            "_model_module": "@jupyter-widgets/controls",
            "_model_module_version": "1.5.0",
            "_model_name": "ProgressStyleModel",
            "_view_count": null,
            "_view_module": "@jupyter-widgets/base",
            "_view_module_version": "1.2.0",
            "_view_name": "StyleView",
            "bar_color": null,
            "description_width": ""
          }
        },
        "5e9dbbf2a69c4fee8f3101e02b365198": {
          "model_module": "@jupyter-widgets/base",
          "model_module_version": "1.2.0",
          "model_name": "LayoutModel",
          "state": {
            "_model_module": "@jupyter-widgets/base",
            "_model_module_version": "1.2.0",
            "_model_name": "LayoutModel",
            "_view_count": null,
            "_view_module": "@jupyter-widgets/base",
            "_view_module_version": "1.2.0",
            "_view_name": "LayoutView",
            "align_content": null,
            "align_items": null,
            "align_self": null,
            "border": null,
            "bottom": null,
            "display": null,
            "flex": null,
            "flex_flow": null,
            "grid_area": null,
            "grid_auto_columns": null,
            "grid_auto_flow": null,
            "grid_auto_rows": null,
            "grid_column": null,
            "grid_gap": null,
            "grid_row": null,
            "grid_template_areas": null,
            "grid_template_columns": null,
            "grid_template_rows": null,
            "height": null,
            "justify_content": null,
            "justify_items": null,
            "left": null,
            "margin": null,
            "max_height": null,
            "max_width": null,
            "min_height": null,
            "min_width": null,
            "object_fit": null,
            "object_position": null,
            "order": null,
            "overflow": null,
            "overflow_x": null,
            "overflow_y": null,
            "padding": null,
            "right": null,
            "top": null,
            "visibility": null,
            "width": null
          }
        },
        "601620722390484e9325ea7fee40c6e1": {
          "model_module": "@jupyter-widgets/base",
          "model_module_version": "1.2.0",
          "model_name": "LayoutModel",
          "state": {
            "_model_module": "@jupyter-widgets/base",
            "_model_module_version": "1.2.0",
            "_model_name": "LayoutModel",
            "_view_count": null,
            "_view_module": "@jupyter-widgets/base",
            "_view_module_version": "1.2.0",
            "_view_name": "LayoutView",
            "align_content": null,
            "align_items": null,
            "align_self": null,
            "border": null,
            "bottom": null,
            "display": null,
            "flex": null,
            "flex_flow": null,
            "grid_area": null,
            "grid_auto_columns": null,
            "grid_auto_flow": null,
            "grid_auto_rows": null,
            "grid_column": null,
            "grid_gap": null,
            "grid_row": null,
            "grid_template_areas": null,
            "grid_template_columns": null,
            "grid_template_rows": null,
            "height": null,
            "justify_content": null,
            "justify_items": null,
            "left": null,
            "margin": null,
            "max_height": null,
            "max_width": null,
            "min_height": null,
            "min_width": null,
            "object_fit": null,
            "object_position": null,
            "order": null,
            "overflow": null,
            "overflow_x": null,
            "overflow_y": null,
            "padding": null,
            "right": null,
            "top": null,
            "visibility": null,
            "width": null
          }
        },
        "60201430ca49474f88ecd3683183ba6f": {
          "model_module": "@jupyter-widgets/controls",
          "model_module_version": "1.5.0",
          "model_name": "HTMLModel",
          "state": {
            "_dom_classes": [],
            "_model_module": "@jupyter-widgets/controls",
            "_model_module_version": "1.5.0",
            "_model_name": "HTMLModel",
            "_view_count": null,
            "_view_module": "@jupyter-widgets/controls",
            "_view_module_version": "1.5.0",
            "_view_name": "HTMLView",
            "description": "",
            "description_tooltip": null,
            "layout": "IPY_MODEL_359b7b28f1954738b6f87b83dc6757f1",
            "placeholder": "​",
            "style": "IPY_MODEL_62702e58df7941e6824fbe2e52d20d95",
            "value": "100%"
          }
        },
        "62702e58df7941e6824fbe2e52d20d95": {
          "model_module": "@jupyter-widgets/controls",
          "model_module_version": "1.5.0",
          "model_name": "DescriptionStyleModel",
          "state": {
            "_model_module": "@jupyter-widgets/controls",
            "_model_module_version": "1.5.0",
            "_model_name": "DescriptionStyleModel",
            "_view_count": null,
            "_view_module": "@jupyter-widgets/base",
            "_view_module_version": "1.2.0",
            "_view_name": "StyleView",
            "description_width": ""
          }
        },
        "8e54756ab44d41ada346071126706dfc": {
          "model_module": "@jupyter-widgets/controls",
          "model_module_version": "1.5.0",
          "model_name": "HTMLModel",
          "state": {
            "_dom_classes": [],
            "_model_module": "@jupyter-widgets/controls",
            "_model_module_version": "1.5.0",
            "_model_name": "HTMLModel",
            "_view_count": null,
            "_view_module": "@jupyter-widgets/controls",
            "_view_module_version": "1.5.0",
            "_view_name": "HTMLView",
            "description": "",
            "description_tooltip": null,
            "layout": "IPY_MODEL_5e9dbbf2a69c4fee8f3101e02b365198",
            "placeholder": "​",
            "style": "IPY_MODEL_f8ed40a70acf469d99d4b6c32c30d8f3",
            "value": " 50/50 [00:00&lt;00:00, 882.86it/s]"
          }
        },
        "a4897fb48d6142f1818a6b854df1cae4": {
          "model_module": "@jupyter-widgets/base",
          "model_module_version": "1.2.0",
          "model_name": "LayoutModel",
          "state": {
            "_model_module": "@jupyter-widgets/base",
            "_model_module_version": "1.2.0",
            "_model_name": "LayoutModel",
            "_view_count": null,
            "_view_module": "@jupyter-widgets/base",
            "_view_module_version": "1.2.0",
            "_view_name": "LayoutView",
            "align_content": null,
            "align_items": null,
            "align_self": null,
            "border": null,
            "bottom": null,
            "display": null,
            "flex": null,
            "flex_flow": null,
            "grid_area": null,
            "grid_auto_columns": null,
            "grid_auto_flow": null,
            "grid_auto_rows": null,
            "grid_column": null,
            "grid_gap": null,
            "grid_row": null,
            "grid_template_areas": null,
            "grid_template_columns": null,
            "grid_template_rows": null,
            "height": null,
            "justify_content": null,
            "justify_items": null,
            "left": null,
            "margin": null,
            "max_height": null,
            "max_width": null,
            "min_height": null,
            "min_width": null,
            "object_fit": null,
            "object_position": null,
            "order": null,
            "overflow": null,
            "overflow_x": null,
            "overflow_y": null,
            "padding": null,
            "right": null,
            "top": null,
            "visibility": null,
            "width": null
          }
        },
        "f8ed40a70acf469d99d4b6c32c30d8f3": {
          "model_module": "@jupyter-widgets/controls",
          "model_module_version": "1.5.0",
          "model_name": "DescriptionStyleModel",
          "state": {
            "_model_module": "@jupyter-widgets/controls",
            "_model_module_version": "1.5.0",
            "_model_name": "DescriptionStyleModel",
            "_view_count": null,
            "_view_module": "@jupyter-widgets/base",
            "_view_module_version": "1.2.0",
            "_view_name": "StyleView",
            "description_width": ""
          }
        }
      }
    }
  },
  "nbformat": 4,
  "nbformat_minor": 0
}
